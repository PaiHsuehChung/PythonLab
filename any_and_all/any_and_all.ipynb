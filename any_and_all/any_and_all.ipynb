{
 "cells": [
  {
   "cell_type": "code",
   "execution_count": 1,
   "id": "joint-subdivision",
   "metadata": {},
   "outputs": [
    {
     "name": "stdout",
     "output_type": "stream",
     "text": [
      "Python 3.6.9\n"
     ]
    }
   ],
   "source": [
    "!python --version"
   ]
  },
  {
   "cell_type": "markdown",
   "id": "addressed-strand",
   "metadata": {},
   "source": [
    "# List(all)"
   ]
  },
  {
   "cell_type": "code",
   "execution_count": 4,
   "id": "working-netherlands",
   "metadata": {},
   "outputs": [
    {
     "name": "stdout",
     "output_type": "stream",
     "text": [
      "True\n",
      "False\n",
      "False\n",
      "False\n",
      "True\n",
      "False\n",
      "False\n"
     ]
    }
   ],
   "source": [
    "number_list = [1,2,3,4,5]\n",
    "print(all(number_list))\n",
    "\n",
    "number_list = [0]    # 0 \n",
    "print(all(number_list))\n",
    "\n",
    "number_list = [False]    # False\n",
    "print(all(number_list))\n",
    "\n",
    "number_list = [0,1,2,3,4,5]    # 0\n",
    "print(all(number_list))\n",
    "\n",
    "number_list = []   # Empty list\n",
    "print(all(number_list))\n",
    "\n",
    "number_list = [1,2,3,4,'']   # \n",
    "print(all(number_list))\n",
    "\n",
    "number_list = [None]    # None\n",
    "print(all(number_list))"
   ]
  },
  {
   "cell_type": "markdown",
   "id": "saving-local",
   "metadata": {},
   "source": [
    "# String(all)"
   ]
  },
  {
   "cell_type": "code",
   "execution_count": 2,
   "id": "colored-simpson",
   "metadata": {},
   "outputs": [
    {
     "name": "stdout",
     "output_type": "stream",
     "text": [
      "True\n",
      "True\n"
     ]
    }
   ],
   "source": [
    "empty_str = ''\n",
    "normal_str = '123'\n",
    "print(all(empty_str))\n",
    "print(all(normal_str))"
   ]
  },
  {
   "cell_type": "markdown",
   "id": "received-infection",
   "metadata": {},
   "source": [
    "# List(any)"
   ]
  },
  {
   "cell_type": "code",
   "execution_count": 1,
   "id": "common-layout",
   "metadata": {},
   "outputs": [
    {
     "name": "stdout",
     "output_type": "stream",
     "text": [
      "True\n",
      "False\n",
      "False\n",
      "True\n",
      "False\n",
      "True\n",
      "False\n"
     ]
    }
   ],
   "source": [
    "number_list = [1,2,3,4,5]\n",
    "print(any(number_list))\n",
    "\n",
    "number_list = [0]    # 0 \n",
    "print(any(number_list))\n",
    "\n",
    "number_list = [False]    # False\n",
    "print(any(number_list))\n",
    "\n",
    "number_list = [0,1,2,3,4,5]    # 0\n",
    "print(any(number_list))\n",
    "\n",
    "number_list = []   # Empty list\n",
    "print(any(number_list))\n",
    "\n",
    "number_list = [1,2,3,4,'']   # \n",
    "print(any(number_list))\n",
    "\n",
    "number_list = [None]    # None\n",
    "print(any(number_list))"
   ]
  },
  {
   "cell_type": "markdown",
   "id": "thousand-chambers",
   "metadata": {},
   "source": [
    "# String(any)"
   ]
  },
  {
   "cell_type": "code",
   "execution_count": 3,
   "id": "incomplete-slave",
   "metadata": {},
   "outputs": [
    {
     "name": "stdout",
     "output_type": "stream",
     "text": [
      "False\n",
      "True\n"
     ]
    }
   ],
   "source": [
    "empty_str = ''\n",
    "normal_str = '123'\n",
    "print(any(empty_str))\n",
    "print(any(normal_str))"
   ]
  }
 ],
 "metadata": {
  "kernelspec": {
   "display_name": "Python 3",
   "language": "python",
   "name": "python3"
  },
  "language_info": {
   "codemirror_mode": {
    "name": "ipython",
    "version": 3
   },
   "file_extension": ".py",
   "mimetype": "text/x-python",
   "name": "python",
   "nbconvert_exporter": "python",
   "pygments_lexer": "ipython3",
   "version": "3.6.9"
  }
 },
 "nbformat": 4,
 "nbformat_minor": 5
}
