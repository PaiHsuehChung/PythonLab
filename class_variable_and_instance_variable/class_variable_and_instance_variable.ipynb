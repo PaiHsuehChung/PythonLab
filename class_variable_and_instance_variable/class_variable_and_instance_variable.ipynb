{
 "cells": [
  {
   "cell_type": "code",
   "execution_count": 1,
   "metadata": {},
   "outputs": [
    {
     "name": "stdout",
     "output_type": "stream",
     "text": [
      "Python 3.6.10 :: Anaconda, Inc.\n"
     ]
    }
   ],
   "source": [
    "!python --version"
   ]
  },
  {
   "cell_type": "code",
   "execution_count": 8,
   "metadata": {},
   "outputs": [],
   "source": [
    "# Define class \"Employee\"\n",
    "class Employee:\n",
    "    class_v = \"This is class variable\" \n",
    "    def __init__(self, name, age):\n",
    "        self.name = name\n",
    "        self.age = age"
   ]
  },
  {
   "cell_type": "code",
   "execution_count": 9,
   "metadata": {},
   "outputs": [
    {
     "name": "stdout",
     "output_type": "stream",
     "text": [
      "Jerry is 20 years old\n",
      "Simon is 40 years old\n"
     ]
    }
   ],
   "source": [
    "# Instance Variable\n",
    "jerry = Employee('Jerry', 20)\n",
    "simon = Employee(\"Simon\", 40)\n",
    "\n",
    "print(f\"{jerry.name} is {jerry.age} years old\")\n",
    "print(f\"{simon.name} is {simon.age} years old\")"
   ]
  },
  {
   "cell_type": "markdown",
   "metadata": {},
   "source": [
    "Caution: When using instance variables and class variables, be sure to pay attention to that when using variables like jerry.name to access variables, the instance will first find out whether there is an instance variable in its own instance variable list. If not, it will go to the class variable list to find it. If not, an exception will pop up."
   ]
  },
  {
   "cell_type": "code",
   "execution_count": 10,
   "metadata": {},
   "outputs": [
    {
     "name": "stdout",
     "output_type": "stream",
     "text": [
      "Employee(class): This is class variable \n",
      "Jerry(instance): This is class variable \n",
      "Simon(instance): This is class variable \n"
     ]
    }
   ],
   "source": [
    "# Class Variable\n",
    "print(f\"Employee(class): {Employee.class_v} \")\n",
    "print(f\"Jerry(instance): {jerry.class_v} \")\n",
    "print(f\"Simon(instance): {simon.class_v} \")"
   ]
  },
  {
   "cell_type": "code",
   "execution_count": 11,
   "metadata": {},
   "outputs": [
    {
     "name": "stdout",
     "output_type": "stream",
     "text": [
      "Jerry Before modify, Jerry is 20 years old\n",
      "Jerry After modify, Jerry is 40 years old\n",
      "Simon: Simon is 40 years old\n"
     ]
    }
   ],
   "source": [
    "# Access instance variable\n",
    "print(f\"Jerry Before modify, {jerry.name} is {jerry.age} years old\")\n",
    "\n",
    "jerry.age = 40\n",
    "\n",
    "print(f\"Jerry After modify, {jerry.name} is {jerry.age} years old\")\n",
    "print(f\"Simon: {simon.name} is {simon.age} years old\")"
   ]
  },
  {
   "cell_type": "markdown",
   "metadata": {},
   "source": [
    "CAUTION: But be careful, if you want to change a class attribute, you have to do it with the notation ClassName.AttributeName. Otherwise, you will create a new instance variable. We demonstrate this in the following example:"
   ]
  },
  {
   "cell_type": "code",
   "execution_count": 12,
   "metadata": {},
   "outputs": [
    {
     "name": "stdout",
     "output_type": "stream",
     "text": [
      "Jerry Before modify, This is class variable \n",
      "Jerry After modify, Change from jerry \n",
      "Employee: This is class variable \n",
      "Simon: This is class variable \n"
     ]
    }
   ],
   "source": [
    "print(f\"Jerry Before modify, {jerry.class_v} \")\n",
    "\n",
    "jerry.class_v = \"Change from jerry\"\n",
    "\n",
    "print(f\"Jerry After modify, {jerry.class_v} \")\n",
    "print(f\"Employee: {Employee.class_v} \")\n",
    "print(f\"Simon: {simon.class_v} \")\n",
    "# Nothing change of simon instance and Employee class"
   ]
  },
  {
   "cell_type": "code",
   "execution_count": 13,
   "metadata": {},
   "outputs": [
    {
     "name": "stdout",
     "output_type": "stream",
     "text": [
      "Employee Before modify, This is class variable \n",
      "Employee After modify, Change from Employee class \n",
      "Jerry: Change from jerry \n",
      "Simon: Change from Employee class \n"
     ]
    }
   ],
   "source": [
    "print(f\"Employee Before modify, {Employee.class_v} \")\n",
    "\n",
    "Employee.class_v = \"Change from Employee class\"\n",
    "\n",
    "print(f\"Employee After modify, {Employee.class_v} \")\n",
    "print(f\"Jerry: {jerry.class_v} \")\n",
    "print(f\"Simon: {simon.class_v} \")\n",
    "#simon instance changed, but jerry.class_v is still the previously created instance variable"
   ]
  },
  {
   "cell_type": "code",
   "execution_count": 14,
   "metadata": {},
   "outputs": [],
   "source": [
    "# Create new instance.\n",
    "eddie = Employee(\"Eddie\", 30)"
   ]
  },
  {
   "cell_type": "code",
   "execution_count": 15,
   "metadata": {},
   "outputs": [
    {
     "data": {
      "text/plain": [
       "'Change from Employee class'"
      ]
     },
     "execution_count": 15,
     "metadata": {},
     "output_type": "execute_result"
    }
   ],
   "source": [
    "# Access class variable\n",
    "eddie.class_v"
   ]
  },
  {
   "cell_type": "markdown",
   "metadata": {},
   "source": [
    "### Python's class attributes and object attributes are stored in separate dictionaries"
   ]
  },
  {
   "cell_type": "code",
   "execution_count": 16,
   "metadata": {},
   "outputs": [
    {
     "data": {
      "text/plain": [
       "{'name': 'Jerry', 'age': 40, 'class_v': 'Change from jerry'}"
      ]
     },
     "execution_count": 16,
     "metadata": {},
     "output_type": "execute_result"
    }
   ],
   "source": [
    "# jerry instance (new instance attribute 'class_v')\n",
    "jerry.__dict__"
   ]
  },
  {
   "cell_type": "code",
   "execution_count": 17,
   "metadata": {},
   "outputs": [
    {
     "data": {
      "text/plain": [
       "{'name': 'Simon', 'age': 40}"
      ]
     },
     "execution_count": 17,
     "metadata": {},
     "output_type": "execute_result"
    }
   ],
   "source": [
    "# simon instance\n",
    "simon.__dict__"
   ]
  },
  {
   "cell_type": "code",
   "execution_count": 18,
   "metadata": {},
   "outputs": [
    {
     "data": {
      "text/plain": [
       "{'name': 'Eddie', 'age': 30}"
      ]
     },
     "execution_count": 18,
     "metadata": {},
     "output_type": "execute_result"
    }
   ],
   "source": [
    "# eddie instance\n",
    "eddie.__dict__"
   ]
  },
  {
   "cell_type": "code",
   "execution_count": 19,
   "metadata": {},
   "outputs": [
    {
     "data": {
      "text/plain": [
       "mappingproxy({'__module__': '__main__',\n",
       "              'class_v': 'Change from Employee class',\n",
       "              '__init__': <function __main__.Employee.__init__(self, name, age)>,\n",
       "              '__dict__': <attribute '__dict__' of 'Employee' objects>,\n",
       "              '__weakref__': <attribute '__weakref__' of 'Employee' objects>,\n",
       "              '__doc__': None})"
      ]
     },
     "execution_count": 19,
     "metadata": {},
     "output_type": "execute_result"
    }
   ],
   "source": [
    "eddie.__class__.__dict__"
   ]
  },
  {
   "cell_type": "code",
   "execution_count": 20,
   "metadata": {},
   "outputs": [
    {
     "data": {
      "text/plain": [
       "mappingproxy({'__module__': '__main__',\n",
       "              'class_v': 'Change from Employee class',\n",
       "              '__init__': <function __main__.Employee.__init__(self, name, age)>,\n",
       "              '__dict__': <attribute '__dict__' of 'Employee' objects>,\n",
       "              '__weakref__': <attribute '__weakref__' of 'Employee' objects>,\n",
       "              '__doc__': None})"
      ]
     },
     "execution_count": 20,
     "metadata": {},
     "output_type": "execute_result"
    }
   ],
   "source": [
    "# Employee Class\n",
    "Employee.__dict__"
   ]
  },
  {
   "cell_type": "code",
   "execution_count": 21,
   "metadata": {},
   "outputs": [
    {
     "name": "stdout",
     "output_type": "stream",
     "text": [
      "Change from jerry\n"
     ]
    }
   ],
   "source": [
    "if hasattr(jerry, \"class_v\"):\n",
    "    print(getattr(jerry, \"class_v\"))"
   ]
  },
  {
   "cell_type": "markdown",
   "metadata": {},
   "source": [
    "## Usage"
   ]
  },
  {
   "cell_type": "code",
   "execution_count": 22,
   "metadata": {},
   "outputs": [],
   "source": [
    "# Create the class to count online users\n",
    "class Online:\n",
    "    counter = 0\n",
    "    def __init__(self, name):\n",
    "        self.name = name\n",
    "        Online.counter += 1\n",
    "        \n",
    "    # Overwrite delete function.\n",
    "    def __del__(self):\n",
    "        Online.counter -= 1\n",
    "    \n",
    "    @classmethod\n",
    "    def show_online_users(cls):\n",
    "        print(f\"{cls.counter} users online.\")"
   ]
  },
  {
   "cell_type": "code",
   "execution_count": 23,
   "metadata": {},
   "outputs": [
    {
     "name": "stdout",
     "output_type": "stream",
     "text": [
      "3 users online.\n"
     ]
    }
   ],
   "source": [
    "# Create users\n",
    "user1 = Online(\"simon\")\n",
    "user2 = Online(\"peter\")\n",
    "user3 = Online(\"Gina\")\n",
    "Online.show_online_users()"
   ]
  },
  {
   "cell_type": "code",
   "execution_count": 24,
   "metadata": {},
   "outputs": [],
   "source": [
    "#delete user\n",
    "del user1"
   ]
  },
  {
   "cell_type": "code",
   "execution_count": 25,
   "metadata": {},
   "outputs": [
    {
     "name": "stdout",
     "output_type": "stream",
     "text": [
      "2 users online.\n"
     ]
    }
   ],
   "source": [
    "Online.show_online_users()"
   ]
  },
  {
   "cell_type": "markdown",
   "metadata": {},
   "source": [
    "### Reference"
   ]
  },
  {
   "cell_type": "markdown",
   "metadata": {},
   "source": [
    "- [class and instance attributes](https://www.python-course.eu/python3_class_and_instance_attributes.php)\n",
    "- [Difference between class variable and instance variable](https://www.code-learner.com/what-is-the-difference-between-class-variable-and-instance-variable-in-python/)"
   ]
  }
 ],
 "metadata": {
  "kernelspec": {
   "display_name": "conda_python3",
   "language": "python",
   "name": "conda_python3"
  },
  "language_info": {
   "codemirror_mode": {
    "name": "ipython",
    "version": 3
   },
   "file_extension": ".py",
   "mimetype": "text/x-python",
   "name": "python",
   "nbconvert_exporter": "python",
   "pygments_lexer": "ipython3",
   "version": "3.6.10"
  }
 },
 "nbformat": 4,
 "nbformat_minor": 4
}
