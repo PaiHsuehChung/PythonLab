{
 "cells": [
  {
   "cell_type": "code",
   "execution_count": 2,
   "id": "delayed-timeline",
   "metadata": {},
   "outputs": [
    {
     "name": "stdout",
     "output_type": "stream",
     "text": [
      "Python 3.6.9\n"
     ]
    }
   ],
   "source": [
    "!python --version"
   ]
  },
  {
   "cell_type": "markdown",
   "id": "revolutionary-tamil",
   "metadata": {},
   "source": [
    "# Accumulated Sum"
   ]
  },
  {
   "cell_type": "code",
   "execution_count": 3,
   "id": "micro-bench",
   "metadata": {},
   "outputs": [],
   "source": [
    "def sum_recursive(current_number, accumulated_sum):\n",
    "    # set the final state\n",
    "    if current_number == 20:\n",
    "        return accumulated_sum\n",
    "    else:\n",
    "        return sum_recursive(current_number + 1, current_number + accumulated_sum)"
   ]
  },
  {
   "cell_type": "code",
   "execution_count": 6,
   "id": "proved-association",
   "metadata": {},
   "outputs": [],
   "source": [
    "import sys"
   ]
  },
  {
   "cell_type": "code",
   "execution_count": 7,
   "id": "endangered-kernel",
   "metadata": {},
   "outputs": [
    {
     "data": {
      "text/plain": [
       "28"
      ]
     },
     "execution_count": 7,
     "metadata": {},
     "output_type": "execute_result"
    }
   ],
   "source": [
    "sys.getsizeof(sum_recursive(10, 0))"
   ]
  },
  {
   "cell_type": "markdown",
   "id": "corporate-border",
   "metadata": {
    "jupyter": {
     "source_hidden": true
    }
   },
   "source": [
    "![global execution stack](global_execution_stack.PNG)"
   ]
  },
  {
   "cell_type": "code",
   "execution_count": 8,
   "id": "traditional-kinase",
   "metadata": {},
   "outputs": [],
   "source": [
    "def factorial_recursive(number):\n",
    "    if number == 1:\n",
    "        return 1\n",
    "    else:\n",
    "        return number * factorial_recursive(number - 1)"
   ]
  },
  {
   "cell_type": "code",
   "execution_count": 9,
   "id": "perfect-gardening",
   "metadata": {},
   "outputs": [
    {
     "data": {
      "text/plain": [
       "120"
      ]
     },
     "execution_count": 9,
     "metadata": {},
     "output_type": "execute_result"
    }
   ],
   "source": [
    "factorial_recursive(5)"
   ]
  },
  {
   "cell_type": "code",
   "execution_count": 12,
   "id": "aerial-simon",
   "metadata": {},
   "outputs": [],
   "source": [
    "def list_sum_recursive(input_list):\n",
    "    if len(input_list) == 0:\n",
    "        return 0\n",
    "    else:\n",
    "        head = input_list[0]\n",
    "        small_list = input_list[1:]\n",
    "        return head + list_sum_recursive(small_list)"
   ]
  },
  {
   "cell_type": "code",
   "execution_count": 14,
   "id": "south-christmas",
   "metadata": {},
   "outputs": [
    {
     "data": {
      "text/plain": [
       "6"
      ]
     },
     "execution_count": 14,
     "metadata": {},
     "output_type": "execute_result"
    }
   ],
   "source": [
    "demo_list = [1,5]\n",
    "list_sum_recursive(demo_list)"
   ]
  },
  {
   "cell_type": "code",
   "execution_count": 28,
   "id": "verbal-serum",
   "metadata": {},
   "outputs": [],
   "source": [
    "def fibonacci_recursive(n):\n",
    "    print(f\"Calculating F - {n}\")\n",
    "    if n == 0:\n",
    "        return 0\n",
    "    elif n == 1:\n",
    "        return 1\n",
    "    else:\n",
    "        return fibonacci_recursive(n-1) + fibonacci_recursive(n-2)"
   ]
  },
  {
   "cell_type": "code",
   "execution_count": 31,
   "id": "emerging-rebecca",
   "metadata": {
    "collapsed": true,
    "jupyter": {
     "outputs_hidden": true
    }
   },
   "outputs": [
    {
     "name": "stdout",
     "output_type": "stream",
     "text": [
      "Calculating F - 6\n",
      "Calculating F - 5\n",
      "Calculating F - 4\n",
      "Calculating F - 3\n",
      "Calculating F - 2\n",
      "Calculating F - 1\n",
      "Calculating F - 0\n",
      "Calculating F - 1\n",
      "Calculating F - 2\n",
      "Calculating F - 1\n",
      "Calculating F - 0\n",
      "Calculating F - 3\n",
      "Calculating F - 2\n",
      "Calculating F - 1\n",
      "Calculating F - 0\n",
      "Calculating F - 1\n",
      "Calculating F - 4\n",
      "Calculating F - 3\n",
      "Calculating F - 2\n",
      "Calculating F - 1\n",
      "Calculating F - 0\n",
      "Calculating F - 1\n",
      "Calculating F - 2\n",
      "Calculating F - 1\n",
      "Calculating F - 0\n"
     ]
    },
    {
     "data": {
      "text/plain": [
       "8"
      ]
     },
     "execution_count": 31,
     "metadata": {},
     "output_type": "execute_result"
    }
   ],
   "source": [
    "fibonacci_recursive(6)"
   ]
  },
  {
   "cell_type": "code",
   "execution_count": 33,
   "id": "romance-biotechnology",
   "metadata": {},
   "outputs": [],
   "source": [
    "from functools import lru_cache\n",
    "@lru_cache(maxsize=None)\n",
    "def fibonacci_recursive_via_cache(n):\n",
    "    print(\"Calculating F\", \"(\", n, \")\", sep=\"\", end=\", \")\n",
    "    # Base case\n",
    "    if n == 0:\n",
    "        return 0\n",
    "    elif n == 1:\n",
    "        return 1\n",
    "\n",
    "    # Recursive case\n",
    "    else:\n",
    "        return fibonacci_recursive(n-1) + fibonacci_recursive(n-2)"
   ]
  },
  {
   "cell_type": "code",
   "execution_count": 34,
   "id": "promising-sport",
   "metadata": {},
   "outputs": [
    {
     "name": "stdout",
     "output_type": "stream",
     "text": [
      "Calculating F(5), Calculating F(4), Calculating F(3), Calculating F(2), Calculating F(1), Calculating F(0), "
     ]
    },
    {
     "data": {
      "text/plain": [
       "5"
      ]
     },
     "execution_count": 34,
     "metadata": {},
     "output_type": "execute_result"
    }
   ],
   "source": [
    "fibonacci_recursive_via_cache(5)"
   ]
  },
  {
   "cell_type": "markdown",
   "id": "direct-invention",
   "metadata": {},
   "source": [
    "# Pesky Details"
   ]
  },
  {
   "cell_type": "markdown",
   "id": "developmental-louisville",
   "metadata": {},
   "source": [
    "Python doesn’t have support for tail-call elimination.  \n",
    "As a result, you can cause a stack overflow if you end up using more stack frames than the default call stack depth:"
   ]
  },
  {
   "cell_type": "code",
   "execution_count": 17,
   "id": "geological-margin",
   "metadata": {},
   "outputs": [
    {
     "data": {
      "text/plain": [
       "3000"
      ]
     },
     "execution_count": 17,
     "metadata": {},
     "output_type": "execute_result"
    }
   ],
   "source": [
    "import sys\n",
    "sys.getrecursionlimit()"
   ]
  },
  {
   "cell_type": "markdown",
   "id": "complimentary-curtis",
   "metadata": {},
   "source": [
    "Also, Python’s mutable data structures don’t support structural sharing, so treating them like immutable data structures is going to negatively affect your space and GC (garbage collection) efficiency because you are going to end up unnecessarily copying a lot of mutable objects. For example, I have used this pattern to decompose lists and recurse over them:"
   ]
  },
  {
   "cell_type": "code",
   "execution_count": 18,
   "id": "olympic-christopher",
   "metadata": {},
   "outputs": [
    {
     "name": "stdout",
     "output_type": "stream",
     "text": [
      "[2, 3]\n",
      "ID : 140499126375432\n"
     ]
    }
   ],
   "source": [
    "input_list = [1,2,3]\n",
    "head = input_list[0]\n",
    "tail = input_list[1:]\n",
    "print(tail)\n",
    "print(f\"ID : {id(tail)}\")"
   ]
  },
  {
   "cell_type": "markdown",
   "id": "spread-spank",
   "metadata": {},
   "source": [
    "I did that to simplify things for the sake of clarity. Keep in mind that tail is being created by copying. Recursively doing that over large lists can negatively affect your space and GC efficiency."
   ]
  }
 ],
 "metadata": {
  "kernelspec": {
   "display_name": "Python 3",
   "language": "python",
   "name": "python3"
  },
  "language_info": {
   "codemirror_mode": {
    "name": "ipython",
    "version": 3
   },
   "file_extension": ".py",
   "mimetype": "text/x-python",
   "name": "python",
   "nbconvert_exporter": "python",
   "pygments_lexer": "ipython3",
   "version": "3.6.9"
  }
 },
 "nbformat": 4,
 "nbformat_minor": 5
}
